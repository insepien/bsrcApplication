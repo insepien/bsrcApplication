{
 "cells": [
  {
   "cell_type": "markdown",
   "id": "83c7e0c7",
   "metadata": {},
   "source": [
    "## Introduction:\n",
    "The data set contains tri-axial smartphone accelerometer data.There are 4 csv files: train_time_series, train_labels, test_time_series, test_labels. \n",
    " -  The files have time stamps and the accelerations in x, y, z directions.\n",
    " -  The _labels files only have every tenth data point from the time_series files.\n",
    " -  Our task is to use the train set to predict the type of physical activity in the test sets. "
   ]
  },
  {
   "cell_type": "markdown",
   "id": "f4da97a3",
   "metadata": {},
   "source": [
    "## Method:\n",
    "We acknowledge that this is a statistical classification problem. According to previous homework, classification is most precise when using Random Forest Classifier in Scikit-learn. Our approach has 2 main parts: data cleaning, training and predicting.\n",
    "\n",
    "The specific steps are as follows:\n",
    " - Import relevant packages: NumPy, Pandas, Scikit-learn, Datetime\n",
    " - Record start time\n",
    " - Read in all files to Pandas data frames\n",
    " - Match data frames dimensions\n",
    " - Fit the training data set, using accelerations as covariates\n",
    " - Predict the test data set and add results into .csv file"
   ]
  },
  {
   "cell_type": "code",
   "execution_count": 1,
   "id": "b3a949ce",
   "metadata": {},
   "outputs": [
    {
     "name": "stdout",
     "output_type": "stream",
     "text": [
      "Runtime:  0.203311\n"
     ]
    }
   ],
   "source": [
    "import numpy as np\n",
    "import pandas as pd\n",
    "from sklearn.ensemble import RandomForestClassifier\n",
    "from sklearn.model_selection import train_test_split\n",
    "import datetime \n",
    "\n",
    "start_time = datetime.datetime.today()\n",
    "\n",
    "# read in training sets\n",
    "timedf = pd.read_csv('train_time_series.csv')\n",
    "labeldf = pd.read_csv('train_labels.csv')\n",
    "\n",
    "# read in test sets\n",
    "testtimedf = pd.read_csv('test_time_series.csv')\n",
    "testlabeldf  = pd.read_csv('test_labels.csv')\n",
    "\n",
    "# data cleaning\n",
    "\n",
    "# match dfs dimensions\n",
    "labellist = list(labeldf.timestamp)\n",
    "timedf = timedf[timedf.timestamp.isin(labellist)]\n",
    "\n",
    "testlabellist = list(testlabeldf.timestamp)\n",
    "testtimedf = testtimedf[testtimedf.timestamp.isin(testlabellist)]\n",
    "\n",
    "# train data set\n",
    "forest_classifier = RandomForestClassifier()\n",
    "classification_outcome = labeldf['label']\n",
    "all_covariates = ['x', 'y', 'z']\n",
    "forest_classifier.fit(timedf[all_covariates], classification_outcome)\n",
    "\n",
    "\n",
    "# predict \n",
    "testlabeldf['label'] = forest_classifier.predict(testtimedf[all_covariates])\n",
    "testlabeldf.to_csv('test_labels.csv')\n",
    "\n",
    "end_time = datetime.datetime.today()\n",
    "print(\"Runtime: \", (end_time-start_time)/datetime.timedelta(seconds=1))"
   ]
  },
  {
   "cell_type": "markdown",
   "id": "66333139",
   "metadata": {},
   "source": [
    "## Results\n",
    "Our predictions have 44.8% accuracy according to the course's auto grader. Below, we split the train set into another train and test sets, with a ratio of 60/40 to get the score for our model. Our model has around 53% accuracy based on this code. The lack of precision can be due to too few covariates and data points. "
   ]
  },
  {
   "cell_type": "code",
   "execution_count": 2,
   "id": "a22d873e",
   "metadata": {},
   "outputs": [
    {
     "data": {
      "text/plain": [
       "0.5666666666666667"
      ]
     },
     "execution_count": 2,
     "metadata": {},
     "output_type": "execute_result"
    }
   ],
   "source": [
    "from sklearn.model_selection import train_test_split\n",
    "x_train, x_test, y_train, y_test = train_test_split(timedf, labeldf.label, train_size = 0.6, random_state = 1)\n",
    "forest_classifier.fit(x_train[all_covariates], y_train)\n",
    "forest_classifier.score(x_test[all_covariates],y_test)"
   ]
  },
  {
   "cell_type": "markdown",
   "id": "4a73746d",
   "metadata": {},
   "source": [
    "## Conclusions\n",
    "In this final project, we used Scikit-learn Random Forest Classifier to predict the type of physical activity based on accelerometer data. Based on the time difference and acceleration value in Cartesian coordinates, we were able to fit the training data to yield predictions. Our accuracy is low due to limited covariates. Our runtime is about 0.17 seconds."
   ]
  }
 ],
 "metadata": {
  "kernelspec": {
   "display_name": "Python 3",
   "language": "python",
   "name": "python3"
  },
  "language_info": {
   "codemirror_mode": {
    "name": "ipython",
    "version": 3
   },
   "file_extension": ".py",
   "mimetype": "text/x-python",
   "name": "python",
   "nbconvert_exporter": "python",
   "pygments_lexer": "ipython3",
   "version": "3.8.8"
  }
 },
 "nbformat": 4,
 "nbformat_minor": 5
}
